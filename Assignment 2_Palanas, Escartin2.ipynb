{
 "cells": [
  {
   "cell_type": "markdown",
   "metadata": {},
   "source": [
    "***Assignment 2 _Data Analytics***\n",
    "\n",
    "**Clustering Using the Sessa Empirical Estimator**\n",
    "\n",
    "- Laurenz Mesiah A. Palanas\n",
    "- Emily Rose Escartin"
   ]
  },
  {
   "cell_type": "markdown",
   "metadata": {},
   "source": [
    "<br>\n",
    "\n",
    "\\begin{gather}\n",
    "\\Large \\textbf{Introduction}\n",
    "\\end{gather}\n",
    "\n",
    "\n",
    "\n",
    "The Sessa Empirical Estimator (SEE) is a data-driven method designed to estimate the duration of pharmacological prescriptions using electronic health records. It relies on clustering techniques to classify medication adherence behaviors based on refill patterns. This assignment focuses on implementing SEE using Python and comparing different clustering algorithms.\n",
    "\n",
    "\n",
    "\n",
    "\n",
    "\n",
    "<br>\n",
    "\n",
    "\n",
    "\\begin{gather}\n",
    "\\Large \\textbf{Methodology}\n",
    "\\end{gather}\n",
    "\n",
    "1. **Data Preprocessing**\n",
    "   - Load and clean the dataset.\n",
    "   - Convert prescription dates to datetime format.\n",
    "   - Compute event intervals between refills.\n",
    "\n",
    "<br>\n",
    "\n",
    "2. **Empirical Cumulative Distribution Function (ECDF) Analysis**\n",
    "   - Visualize the distribution of event intervals to understand refill patterns.\n",
    "\n",
    "<br>\n",
    "\n",
    "3. **Clustering Techniques**\n",
    "   - Apply **K-Means clustering** to classify adherence behaviors.\n",
    "   - Use **DBSCAN clustering** as an alternative method.\n",
    "   - Compare performance using the **Silhouette Score**.\n",
    "\n",
    "<br>\n",
    "\n",
    "4. **Evaluation and Comparison**\n",
    "   - Compare results from K-Means and DBSCAN.\n",
    "   - Assess clustering quality and interpret adherence patterns.\n",
    "\n",
    "<br>\n"
   ]
  },
  {
   "cell_type": "markdown",
   "metadata": {},
   "source": [
    "\n",
    "\\begin{gather}\n",
    "\\Large \\textbf{Python Implementation}\n",
    "\\end{gather}\n",
    "\n",
    "\n",
    "### **Steps in the Code**:\n",
    "\n",
    "**Step 1: Import Necessary Libraries**\n",
    "\n",
    "\n"
   ]
  },
  {
   "cell_type": "code",
   "execution_count": 3,
   "metadata": {},
   "outputs": [],
   "source": [
    "import pandas as pd\n",
    "import numpy as np\n",
    "import matplotlib.pyplot as plt\n",
    "import seaborn as sns\n",
    "from sklearn.cluster import KMeans, DBSCAN\n",
    "from sklearn.metrics import silhouette_score"
   ]
  },
  {
   "cell_type": "markdown",
   "metadata": {},
   "source": [
    "**Step 2: Load and Preprocess the Data**"
   ]
  },
  {
   "cell_type": "code",
   "execution_count": 5,
   "metadata": {},
   "outputs": [],
   "source": [
    "def preprocess_data(data):\n",
    "    \"\"\"Preprocesses the data: renaming columns, parsing dates, and computing event intervals.\"\"\"\n",
    "    data.columns = ['pnr', 'eksd', 'perday', 'ATC', 'dur_original']\n",
    "    data['eksd'] = pd.to_datetime(data['eksd'])\n",
    "    data = data.sort_values(by=['pnr', 'eksd'])\n",
    "    data['prev_eksd'] = data.groupby('pnr')['eksd'].shift(1)\n",
    "    data['event_interval'] = (data['eksd'] - data['prev_eksd']).dt.days\n",
    "    return data.dropna()"
   ]
  },
  {
   "cell_type": "markdown",
   "metadata": {},
   "source": [
    "**Step 3: ECDF Analysis**"
   ]
  },
  {
   "cell_type": "code",
   "execution_count": 10,
   "metadata": {},
   "outputs": [],
   "source": [
    "def plot_ecdf(data):\n",
    "    \"\"\"Plots the Empirical Cumulative Distribution Function (ECDF).\"\"\"\n",
    "    x = np.sort(data['event_interval'].dropna())\n",
    "    y = np.arange(1, len(x) + 1) / len(x)\n",
    "    plt.figure(figsize=(8, 6))\n",
    "    plt.plot(x, y, marker='.', linestyle='none')\n",
    "    plt.xlabel('Event Interval (Days)')\n",
    "    plt.ylabel('ECDF')\n",
    "    plt.title('Empirical Cumulative Distribution Function')\n",
    "    plt.grid(True)\n",
    "    plt.show()"
   ]
  }
 ],
 "metadata": {
  "kernelspec": {
   "display_name": "Python 3",
   "language": "python",
   "name": "python3"
  },
  "language_info": {
   "codemirror_mode": {
    "name": "ipython",
    "version": 3
   },
   "file_extension": ".py",
   "mimetype": "text/x-python",
   "name": "python",
   "nbconvert_exporter": "python",
   "pygments_lexer": "ipython3",
   "version": "3.11.9"
  }
 },
 "nbformat": 4,
 "nbformat_minor": 2
}
